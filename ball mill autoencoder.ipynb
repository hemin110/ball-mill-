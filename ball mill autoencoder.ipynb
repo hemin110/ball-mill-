{
 "cells": [
  {
   "cell_type": "code",
   "execution_count": 97,
   "metadata": {
    "collapsed": true
   },
   "outputs": [],
   "source": [
    "import tensorflow as tf\n",
    "import scipy.io as sio\n",
    "import numpy as np"
   ]
  },
  {
   "cell_type": "code",
   "execution_count": 98,
   "metadata": {},
   "outputs": [],
   "source": [
    "data1 =sio.loadmat('milldata/test_x_1.mat')['test_x'] \n",
    "data2 =sio.loadmat('milldata/test_x_2.mat')['test_x']"
   ]
  },
  {
   "cell_type": "code",
   "execution_count": 99,
   "metadata": {},
   "outputs": [],
   "source": [
    "data = np.vstack((data1,data2))"
   ]
  },
  {
   "cell_type": "code",
   "execution_count": 100,
   "metadata": {},
   "outputs": [
    {
     "data": {
      "text/plain": [
       "(1936, 512)"
      ]
     },
     "execution_count": 100,
     "metadata": {},
     "output_type": "execute_result"
    }
   ],
   "source": [
    "data.shape"
   ]
  },
  {
   "cell_type": "code",
   "execution_count": 101,
   "metadata": {
    "collapsed": true
   },
   "outputs": [],
   "source": [
    "def weight_variable(shape, name):\n",
    "    return tf.Variable(tf.truncated_normal(shape = shape, stddev = 0.1), name)\n",
    "def bias_variable(shape, name):\n",
    "    return tf.Variable(tf.constant(0.1, shape = shape), name)"
   ]
  },
  {
   "cell_type": "code",
   "execution_count": 102,
   "metadata": {
    "collapsed": true
   },
   "outputs": [],
   "source": [
    "x = tf.placeholder(tf.float32, shape = [None, 512])\n",
    "e_W_1 = weight_variable([512, 256], \"e_W_1\")\n",
    "e_b_1 = bias_variable([256], \"e_b_1\")\n",
    "e_layer1 = tf.nn.relu(tf.matmul(x, e_W_1) + e_b_1)\n",
    "e_W_2 = weight_variable([256, 128], \"e_W_2\")\n",
    "e_b_2 = bias_variable([128], \"e_b_2\")\n",
    "e_layer2 = tf.nn.relu(tf.matmul(e_layer1, e_W_2) + e_b_2)\n",
    "e_W_3 = weight_variable([128, 64], \"e_W_3\")\n",
    "e_b_3 = bias_variable([64], \"e_b_3\")\n",
    "code_layer = tf.nn.relu(tf.matmul(e_layer2, e_W_3) + e_b_3)\n",
    "d_W_1 = weight_variable([64, 128], \"d_W_1\")\n",
    "d_b_1 = bias_variable([128], \"d_b_1\")\n",
    "d_layer1 = tf.nn.relu(tf.matmul(code_layer, d_W_1) + d_b_1)\n",
    "d_W_2 = weight_variable([128, 256], \"d_W_2\")\n",
    "d_b_2 = bias_variable([256], \"d_b_2\")\n",
    "d_layer2 = tf.nn.relu(tf.matmul(d_layer1, d_W_2) + d_b_2)\n",
    "d_W_3 = weight_variable([256, 512], \"d_W_3\")\n",
    "d_b_3 = bias_variable([512], \"d_b_3\")\n",
    "output_layer = tf.nn.relu(tf.matmul(d_layer2, d_W_3) + d_b_3)"
   ]
  },
  {
   "cell_type": "code",
   "execution_count": 103,
   "metadata": {},
   "outputs": [],
   "source": [
    "loss = tf.reduce_mean(tf.pow(output_layer - x, 2)*1000)\n",
    "optimizer = tf.train.RMSPropOptimizer(0.001).minimize(loss)\n",
    "init_op = tf.global_variables_initializer()"
   ]
  },
  {
   "cell_type": "code",
   "execution_count": 104,
   "metadata": {
    "scrolled": true
   },
   "outputs": [
    {
     "name": "stdout",
     "output_type": "stream",
     "text": [
      "step 0, loss 0.25105\n",
      "step 10, loss 0.0270997\n",
      "step 20, loss 0.0246144\n",
      "step 30, loss 0.0207329\n",
      "step 40, loss 0.0195647\n",
      "step 50, loss 0.0231199\n",
      "step 60, loss 0.0192753\n",
      "step 70, loss 0.0175891\n",
      "step 80, loss 0.0242978\n",
      "step 90, loss 0.0230828\n",
      "step 100, loss 0.0198311\n",
      "step 110, loss 0.0160168\n",
      "step 120, loss 0.0164646\n",
      "step 130, loss 0.017302\n",
      "step 140, loss 0.0150389\n",
      "step 150, loss 0.0198978\n",
      "step 160, loss 0.0162528\n",
      "step 170, loss 0.0167867\n",
      "step 180, loss 0.0163427\n",
      "step 190, loss 0.0184942\n",
      "step 200, loss 0.0150036\n",
      "step 210, loss 0.0164029\n",
      "step 220, loss 0.0177786\n",
      "step 230, loss 0.0153945\n",
      "step 240, loss 0.0127586\n",
      "step 250, loss 0.0182003\n",
      "step 260, loss 0.0165871\n",
      "step 270, loss 0.017037\n",
      "step 280, loss 0.0156392\n",
      "step 290, loss 0.0155278\n",
      "step 300, loss 0.0158504\n",
      "step 310, loss 0.0154273\n",
      "step 320, loss 0.0137194\n",
      "step 330, loss 0.0192015\n",
      "step 340, loss 0.0130306\n",
      "step 350, loss 0.0157203\n",
      "step 360, loss 0.0210212\n",
      "step 370, loss 0.010899\n",
      "step 380, loss 0.0129543\n",
      "step 390, loss 0.0148952\n",
      "step 400, loss 0.0150144\n",
      "step 410, loss 0.011809\n",
      "step 420, loss 0.0168749\n",
      "step 430, loss 0.020752\n",
      "step 440, loss 0.0158624\n",
      "step 450, loss 0.01117\n",
      "step 460, loss 0.0247745\n",
      "step 470, loss 0.0178301\n",
      "step 480, loss 0.0197353\n",
      "step 490, loss 0.0202434\n",
      "final loss 0.218449\n"
     ]
    }
   ],
   "source": [
    "sess = tf.InteractiveSession()\n",
    "sess.run(init_op)\n",
    "for i in range(500):\n",
    "    for indx in range(data.shape[0]/4):\n",
    "        batch = data[indx*4:indx*4+3,:]\n",
    "        #batch = data.next_batch(40)\n",
    "        optimizer.run(feed_dict={x: batch})\n",
    "    if i%10 == 0:\n",
    "            print(\"step %d, loss %g\"%(i, loss.eval(feed_dict={x:batch})))\n",
    "print(\"final loss %g\" % loss.eval(feed_dict={x: data}))"
   ]
  },
  {
   "cell_type": "code",
   "execution_count": 22,
   "metadata": {},
   "outputs": [
    {
     "data": {
      "text/plain": [
       "1936"
      ]
     },
     "execution_count": 22,
     "metadata": {},
     "output_type": "execute_result"
    }
   ],
   "source": [
    "484*4\n"
   ]
  },
  {
   "cell_type": "code",
   "execution_count": 82,
   "metadata": {
    "collapsed": true
   },
   "outputs": [],
   "source": [
    "e_W_1_ = e_W_1.eval(sess)\n",
    "e_b_1_ = e_b_1.eval(sess)\n",
    "e_W_2_ = e_W_2.eval(sess)\n",
    "e_b_2_ = e_b_2.eval(sess)\n",
    "e_W_3_ = e_W_3.eval(sess)\n",
    "e_b_3_ = e_b_3.eval(sess)\n",
    "\n",
    "d_W_1_ = d_W_1.eval(sess)\n",
    "d_b_1_ = d_b_1.eval(sess)\n",
    "d_W_2_ = d_W_2.eval(sess)\n",
    "d_b_2_ = d_b_2.eval(sess)\n",
    "d_W_3_ = d_W_3.eval(sess)\n",
    "d_b_3_ = d_b_3.eval(sess)"
   ]
  },
  {
   "cell_type": "code",
   "execution_count": 83,
   "metadata": {
    "collapsed": true
   },
   "outputs": [],
   "source": [
    "sio.savemat('milldata/wb3.mat' ,{'e_W_1_':e_W_1_,'e_b_1_':e_b_1_,'e_W_2_':e_W_2_,'e_b_2_':e_b_2_,'e_W_3_':e_W_3_,'e_b_3_':e_b_3_,'d_W_1_':d_W_1_,'d_b_1_':d_b_1_,'d_W_2_':d_W_2_,'d_b_2_':d_b_2_,'d_W_3_':d_W_3_,'d_b_3_':d_b_3_})"
   ]
  },
  {
   "cell_type": "code",
   "execution_count": 33,
   "metadata": {
    "collapsed": true
   },
   "outputs": [],
   "source": [
    "data = sio.loadmat('milldata/wb.mat')"
   ]
  },
  {
   "cell_type": "code",
   "execution_count": 84,
   "metadata": {},
   "outputs": [
    {
     "data": {
      "text/plain": [
       "(1936, 512)"
      ]
     },
     "execution_count": 84,
     "metadata": {},
     "output_type": "execute_result"
    }
   ],
   "source": [
    "data.shape\n"
   ]
  },
  {
   "cell_type": "code",
   "execution_count": 91,
   "metadata": {},
   "outputs": [],
   "source": [
    "output_nd = output_layer.eval(feed_dict = {x:data[1030,:].reshape(1,-1) })"
   ]
  },
  {
   "cell_type": "code",
   "execution_count": 92,
   "metadata": {},
   "outputs": [
    {
     "name": "stdout",
     "output_type": "stream",
     "text": [
      "(1, 512)\n"
     ]
    },
    {
     "data": {
      "image/png": "[encoded data removed]",
      "text/plain": [
       "<matplotlib.figure.Figure at 0x7f64501cc2d0>"
      ]
     },
     "metadata": {},
     "output_type": "display_data"
    }
   ],
   "source": [
    "print output_nd.shape\n",
    "import matplotlib.pylab as plt\n",
    "%matplotlib inline\n",
    "plt.plot(output_nd[0,:])\n",
    "plt.plot(data[1030,:])\n",
    "plt.show()\n",
    "encodedata = code_layer.eval(feed_dict = {x:data})"
   ]
  },
  {
   "cell_type": "code",
   "execution_count": 72,
   "metadata": {},
   "outputs": [
    {
     "data": {
      "text/plain": [
       "(1936, 64)"
      ]
     },
     "execution_count": 72,
     "metadata": {},
     "output_type": "execute_result"
    }
   ],
   "source": [
    "encodedata.shape"
   ]
  },
  {
   "cell_type": "code",
   "execution_count": 93,
   "metadata": {
    "collapsed": true
   },
   "outputs": [],
   "source": [
    "sio.savemat('milldata/encodeData3.mat' ,{\"data\":encodedata})"
   ]
  },
  {
   "cell_type": "code",
   "execution_count": 96,
   "metadata": {},
   "outputs": [
    {
     "data": {
      "text/plain": [
       "[<matplotlib.lines.Line2D at 0x7f642baaa650>]"
      ]
     },
     "execution_count": 96,
     "metadata": {},
     "output_type": "execute_result"
    },
    {
     "data": {
      "image/png": "[encoded data removed]",
      "text/plain": [
       "<matplotlib.figure.Figure at 0x7f642b70d350>"
      ]
     },
     "metadata": {},
     "output_type": "display_data"
    }
   ],
   "source": [
    "plt.plot(data[:,5])"
   ]
  },
  {
   "cell_type": "code",
   "execution_count": null,
   "metadata": {
    "collapsed": true
   },
   "outputs": [],
   "source": []
  }
 ],
 "metadata": {
  "kernelspec": {
   "display_name": "Python 2",
   "language": "python",
   "name": "python2"
  },
  "language_info": {
   "codemirror_mode": {
    "name": "ipython",
    "version": 2
   },
   "file_extension": ".py",
   "mimetype": "text/x-python",
   "name": "python",
   "nbconvert_exporter": "python",
   "pygments_lexer": "ipython2",
   "version": "2.7.14"
  }
 },
 "nbformat": 4,
 "nbformat_minor": 2
}
